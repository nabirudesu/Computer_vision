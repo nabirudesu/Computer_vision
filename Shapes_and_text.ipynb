{
 "cells": [
  {
   "cell_type": "markdown",
   "id": "01fd8816",
   "metadata": {},
   "source": [
    "### Drawing Italy's falg\n",
    "* Understanding the basics of the cv2.rectangle()."
   ]
  },
  {
   "cell_type": "code",
   "execution_count": 93,
   "id": "db3ed303",
   "metadata": {},
   "outputs": [],
   "source": [
    "import cv2 as cv\n",
    "import numpy as np\n",
    "\n",
    "img=np.zeros((300,600,3),dtype='uint8')\n",
    "# paint the image with a specific color\n",
    "img[100:500,:500]=200,0,0\n",
    "\n",
    "#Create the flag of Italy using rectangles\n",
    "cv.rectangle(img,(0,0),(200,300),(0,200,0),thickness=-1)\n",
    "cv.rectangle(img,(200,0),(400,300),(255,255,255),thickness=-1)\n",
    "cv.rectangle(img,(400,0),(600,300),(0,0,200),thickness=-1)\n",
    "cv.imshow('Flag of Italy',img)\n",
    "cv.waitKey(0)\n",
    "cv.destroyAllWindows()"
   ]
  },
  {
   "cell_type": "markdown",
   "id": "48da92de",
   "metadata": {},
   "source": [
    "### Drawing the flag of Algeria\n",
    "We draw in this cell Algeria's flag using the next predefind shapes in opencv:<br>\n",
    "<br>\n",
    "* <b>cv2.rectangle()</b>: to create the green and white rectangles.\n",
    "<br><br>\n",
    "* <b>cv2.circle()</b> and <b>cv2.ellipse()</b>: To create the red crescent.\n",
    "<br><br>\n",
    "* <b>cv2.fillPoly()</b> : To create the red star in th emiddle of the flag."
   ]
  },
  {
   "cell_type": "code",
   "execution_count": 94,
   "id": "b93337c8",
   "metadata": {},
   "outputs": [],
   "source": [
    "#Create the flag of Algeria using elipse\n",
    "algeria=np.zeros((300,300,3),dtype='uint8')\n",
    "#The rectangles\n",
    "cv.rectangle(algeria,(0,0),(150,300),(0,200,0),thickness=-1)\n",
    "cv.rectangle(algeria,(150,0),(300,300),(255,255,255),thickness=-1)\n",
    "\n",
    "# Create the crescent using the ellipse and the circle \n",
    "cv.circle(algeria,(150,150),100,(0,0,200),thickness=-1)\n",
    "cv.ellipse(algeria,(150,150),(73,87),0,90,270,(0,200,0),thickness=-1)\n",
    "cv.ellipse(algeria,(150,150),(87,103),90,180,360,(255,255,255),thickness=-1)\n",
    "\n",
    "# Create the star using fillPoly\n",
    "pts=np.array([[150,160],[165,155],[175,170],[175,153],[190,150],[175,147],\n",
    "[175,130],[165,145],[150,140],[160,150]],np.int32)\n",
    "pts = pts.reshape((-1,1,2))\n",
    "cv.fillPoly(algeria,[pts],(0,0,200))\n",
    "\n",
    "# Display the flag\n",
    "cv.imshow('Flag of Algeria',algeria)\n",
    "\n",
    "cv.waitKey(0)\n",
    "cv.destroyAllWindows()"
   ]
  },
  {
   "cell_type": "code",
   "execution_count": null,
   "id": "740a47ba",
   "metadata": {},
   "outputs": [],
   "source": []
  }
 ],
 "metadata": {
  "kernelspec": {
   "display_name": "Python 3",
   "language": "python",
   "name": "python3"
  },
  "language_info": {
   "codemirror_mode": {
    "name": "ipython",
    "version": 3
   },
   "file_extension": ".py",
   "mimetype": "text/x-python",
   "name": "python",
   "nbconvert_exporter": "python",
   "pygments_lexer": "ipython3",
   "version": "3.9.6"
  }
 },
 "nbformat": 4,
 "nbformat_minor": 5
}
