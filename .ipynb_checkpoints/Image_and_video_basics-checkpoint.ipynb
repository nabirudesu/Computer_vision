{
 "cells": [
  {
   "cell_type": "markdown",
   "id": "92f7a1b8",
   "metadata": {},
   "source": [
    "# OpenCV basics"
   ]
  },
  {
   "cell_type": "markdown",
   "id": "fb0e3a8d",
   "metadata": {},
   "source": [
    "### 1- Reading and rendering images"
   ]
  },
  {
   "cell_type": "code",
   "execution_count": 1,
   "id": "b9fb6843",
   "metadata": {},
   "outputs": [
    {
     "name": "stdout",
     "output_type": "stream",
     "text": [
      "<class 'numpy.ndarray'>\n"
     ]
    }
   ],
   "source": [
    "import cv2 as cv\n",
    "import numpy as np\n",
    "\n",
    "#Specify the path of the image here\n",
    "img_path='Images/1.jpg'\n",
    "\n",
    "#Storing the image in an array of pixels where each pixel contains the 3 RGB colors\n",
    "img=cv.imread(img_path)\n",
    "\n",
    "#Display the image to a new window \n",
    "cv.imshow('beach',img)\n",
    "\n",
    "#closing the image after a 0 seconde of clicking any key\n",
    "cv.waitKey(0)\n",
    "\n",
    "#destroying the window\n",
    "cv.destroyAllWindows()"
   ]
  },
  {
   "cell_type": "markdown",
   "id": "741ec4b5",
   "metadata": {},
   "source": [
    "### 2- Reading and rendering Videos "
   ]
  },
  {
   "cell_type": "code",
   "execution_count": 6,
   "id": "e3fa05af",
   "metadata": {},
   "outputs": [],
   "source": [
    "import cv2 as cv\n",
    "\n",
    "# Path of the mp4 file\n",
    "video_path='Videos/1.mp4'\n",
    "\n",
    "# Capturing the frames of the video\n",
    "capture= cv.VideoCapture(video_path)\n",
    "\n",
    "# Play the video frame by frame \n",
    "while capture.isOpened():\n",
    "    #Single frame at time\n",
    "    isTrue,frame=capture.read()\n",
    "    if isTrue:\n",
    "        #Display the frame\n",
    "        cv.imshow('video',frame)\n",
    "        c=cv.waitKey(25)\n",
    "        \n",
    "        # exiting the loop after 25 s or when pressing the key \"a\"\n",
    "        if ( c & 0xFF == ord('a')):\n",
    "            break\n",
    "    else:\n",
    "        break\n",
    "    \n",
    "#Releasing and destroying the window of the video\n",
    "capture.release()\n",
    "cv.destroyAllWindows()"
   ]
  },
  {
   "cell_type": "markdown",
   "id": "c9cf64e4",
   "metadata": {},
   "source": [
    "### 3- Rescaling and Resizing\n",
    "* ### Rescaling function"
   ]
  },
  {
   "cell_type": "code",
   "execution_count": 2,
   "id": "d420d8d6",
   "metadata": {},
   "outputs": [],
   "source": [
    "\n",
    "# Function that rescale a given image by a scale portion\n",
    "def rescaleFrame(frame,scale=0.75):\n",
    "    width=int(frame.shape[1]*scale)\n",
    "    height=int(frame.shape[0]*scale)\n",
    "    resolution=(width,height)\n",
    "    return cv.resize(frame,resolution,interpolation=cv.INTER_AREA)\n"
   ]
  },
  {
   "cell_type": "markdown",
   "id": "5795e10c",
   "metadata": {},
   "source": [
    "* ### Images"
   ]
  },
  {
   "cell_type": "code",
   "execution_count": 7,
   "id": "035546f9",
   "metadata": {},
   "outputs": [],
   "source": [
    "import cv2 as cv\n",
    "\n",
    "# Reading the image\n",
    "img = cv.imread('Images/7.jpg')\n",
    "\n",
    "# Scaling the image\n",
    "rescaled_img=rescaleFrame(img,scale=0.3)\n",
    "\n",
    "# Display the scaled image\n",
    "cv.imshow('image',rescaled_img)\n",
    "\n",
    "cv.waitKey(0)\n",
    "cv.destroyAllWindows()"
   ]
  },
  {
   "cell_type": "markdown",
   "id": "05b354eb",
   "metadata": {},
   "source": [
    "* ### Rescaling videos with cv.resize()"
   ]
  },
  {
   "cell_type": "code",
   "execution_count": 3,
   "id": "b380c18d",
   "metadata": {},
   "outputs": [],
   "source": [
    "import cv2 as cv\n",
    "# Capture the video\n",
    "capture= cv.VideoCapture('Videos/2.mp4')\n",
    "\n",
    "# Rendering the video frame by frame \n",
    "while True:\n",
    "    #Reading the video\n",
    "    isTrue,frame= capture.read()\n",
    "    # Rescaling each frame of the video\n",
    "    rescaled_frame=rescaleFrame(frame,scale=0.25)\n",
    "    \n",
    "    if isTrue:\n",
    "        # Display the rescaled frames\n",
    "        cv.imshow('Rescaled video',rescaled_frame)\n",
    "        if cv.waitKey(25) & 0xFF== ord('m'):\n",
    "            break\n",
    "    else:\n",
    "        break\n",
    "        \n",
    "capture.release()\n",
    "cv.destroyAllWindows()"
   ]
  },
  {
   "cell_type": "markdown",
   "id": "d40872af",
   "metadata": {},
   "source": [
    "* ### Live videos Rescaling using capture.set()"
   ]
  },
  {
   "cell_type": "code",
   "execution_count": 22,
   "id": "e0d69bf7",
   "metadata": {},
   "outputs": [
    {
     "name": "stdout",
     "output_type": "stream",
     "text": [
      "(240, 424, 3)\n",
      "(240, 424, 3)\n",
      "(240, 424, 3)\n",
      "(240, 424, 3)\n",
      "(240, 424, 3)\n",
      "(240, 424, 3)\n",
      "(240, 424, 3)\n",
      "(240, 424, 3)\n",
      "(240, 424, 3)\n",
      "(240, 424, 3)\n",
      "(240, 424, 3)\n",
      "(240, 424, 3)\n",
      "(240, 424, 3)\n",
      "(240, 424, 3)\n",
      "(240, 424, 3)\n",
      "(240, 424, 3)\n",
      "(240, 424, 3)\n",
      "(240, 424, 3)\n",
      "(240, 424, 3)\n",
      "(240, 424, 3)\n",
      "(240, 424, 3)\n",
      "(240, 424, 3)\n",
      "(240, 424, 3)\n",
      "(240, 424, 3)\n",
      "(240, 424, 3)\n",
      "(240, 424, 3)\n",
      "(240, 424, 3)\n",
      "(240, 424, 3)\n",
      "(240, 424, 3)\n",
      "(240, 424, 3)\n",
      "(240, 424, 3)\n",
      "(240, 424, 3)\n",
      "(240, 424, 3)\n",
      "(240, 424, 3)\n",
      "(240, 424, 3)\n",
      "(240, 424, 3)\n",
      "(240, 424, 3)\n",
      "(240, 424, 3)\n",
      "(240, 424, 3)\n",
      "(240, 424, 3)\n",
      "(240, 424, 3)\n",
      "(240, 424, 3)\n",
      "(240, 424, 3)\n",
      "(240, 424, 3)\n",
      "(240, 424, 3)\n",
      "(240, 424, 3)\n",
      "(240, 424, 3)\n",
      "(240, 424, 3)\n",
      "(240, 424, 3)\n",
      "(240, 424, 3)\n",
      "(240, 424, 3)\n",
      "(240, 424, 3)\n",
      "(240, 424, 3)\n",
      "(240, 424, 3)\n",
      "(240, 424, 3)\n",
      "(240, 424, 3)\n",
      "(240, 424, 3)\n",
      "(240, 424, 3)\n",
      "(240, 424, 3)\n",
      "(240, 424, 3)\n",
      "(240, 424, 3)\n",
      "(240, 424, 3)\n",
      "(240, 424, 3)\n",
      "(240, 424, 3)\n",
      "(240, 424, 3)\n",
      "(240, 424, 3)\n",
      "(240, 424, 3)\n",
      "(240, 424, 3)\n",
      "(240, 424, 3)\n",
      "(240, 424, 3)\n",
      "(240, 424, 3)\n",
      "(240, 424, 3)\n",
      "(240, 424, 3)\n",
      "(240, 424, 3)\n",
      "(240, 424, 3)\n",
      "(240, 424, 3)\n",
      "(240, 424, 3)\n",
      "(240, 424, 3)\n",
      "(240, 424, 3)\n",
      "(240, 424, 3)\n",
      "(240, 424, 3)\n",
      "(240, 424, 3)\n",
      "(240, 424, 3)\n",
      "(240, 424, 3)\n",
      "(240, 424, 3)\n",
      "(240, 424, 3)\n",
      "(240, 424, 3)\n",
      "(240, 424, 3)\n",
      "(240, 424, 3)\n",
      "(240, 424, 3)\n",
      "(240, 424, 3)\n",
      "(240, 424, 3)\n",
      "(240, 424, 3)\n",
      "(240, 424, 3)\n",
      "(240, 424, 3)\n",
      "(240, 424, 3)\n",
      "(240, 424, 3)\n",
      "(240, 424, 3)\n",
      "(240, 424, 3)\n",
      "(240, 424, 3)\n",
      "(240, 424, 3)\n",
      "(240, 424, 3)\n",
      "(240, 424, 3)\n",
      "(240, 424, 3)\n",
      "(240, 424, 3)\n",
      "(240, 424, 3)\n",
      "(240, 424, 3)\n",
      "(240, 424, 3)\n",
      "(240, 424, 3)\n",
      "(240, 424, 3)\n",
      "(240, 424, 3)\n",
      "(240, 424, 3)\n",
      "(240, 424, 3)\n",
      "(240, 424, 3)\n",
      "(240, 424, 3)\n",
      "(240, 424, 3)\n",
      "(240, 424, 3)\n",
      "(240, 424, 3)\n",
      "(240, 424, 3)\n"
     ]
    }
   ],
   "source": [
    "import cv2 as cv\n",
    "\n",
    "def ChangeResolution(height,width):\n",
    "    capture.set(3,width)\n",
    "    capture.set(4,height)\n",
    "    \n",
    "\n",
    "# Capture the video\n",
    "capture= cv.VideoCapture(0)\n",
    "\n",
    "#Rescaling the captured frames\n",
    "ChangeResolution(240,400)\n",
    "\n",
    "# Rendering the video frame by frame \n",
    "while True:\n",
    "    #Reading the video\n",
    "    isTrue,frame= capture.read()\n",
    "\n",
    "    if isTrue:\n",
    "        # Display the rescaled frames\n",
    "        cv.imshow('Rescaled video',frame)\n",
    "        if cv.waitKey(25) & 0xFF== ord('m'):\n",
    "            break\n",
    "    else:\n",
    "        break\n",
    "        \n",
    "capture.release()\n",
    "cv.destroyAllWindows()"
   ]
  }
 ],
 "metadata": {
  "kernelspec": {
   "display_name": "Python 3",
   "language": "python",
   "name": "python3"
  },
  "language_info": {
   "codemirror_mode": {
    "name": "ipython",
    "version": 3
   },
   "file_extension": ".py",
   "mimetype": "text/x-python",
   "name": "python",
   "nbconvert_exporter": "python",
   "pygments_lexer": "ipython3",
   "version": "3.9.6"
  }
 },
 "nbformat": 4,
 "nbformat_minor": 5
}
