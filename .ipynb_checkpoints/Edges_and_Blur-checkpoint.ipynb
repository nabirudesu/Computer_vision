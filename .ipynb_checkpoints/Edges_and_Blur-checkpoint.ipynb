{
 "cells": [
  {
   "cell_type": "code",
   "execution_count": 7,
   "id": "68f3d8d5",
   "metadata": {},
   "outputs": [],
   "source": [
    "import cv2 as cv\n",
    "import numpy as np\n",
    "\n",
    "img = np.zeros((300,300),dtype='uint8')\n",
    "\n",
    "cv.imshow('void',img)\n",
    "\n",
    "img2=cv.putText(img,\"Moshi Moshi\",(100,140),cv.FONT_HERSHEY_TRIPLEX,0.5,(200,200,200),1)\n",
    "\n",
    "cv.imshow('helo',img2)\n",
    "cv.waitKey(0)\n",
    "cv.destroyAllWindows()"
   ]
  },
  {
   "cell_type": "markdown",
   "id": "8988e56e",
   "metadata": {},
   "source": [
    "### Converting an RGB imag to Grayscale \n",
    "* Using COLOR_BGR2GRAY function to convert an RGB image to grayscale image."
   ]
  },
  {
   "cell_type": "code",
   "execution_count": 8,
   "id": "3eed5a46",
   "metadata": {},
   "outputs": [],
   "source": [
    "import numpy as np\n",
    "import cv2 as cv\n",
    "\n",
    "img=cv.imread('Images/6.jpg')\n",
    "resclaed_img=rescaleFrame(img,0.4)\n",
    "cv.imshow('beach i guess',rescaled_img)\n",
    "\n",
    "\n",
    "gray=cv.cvtColor(rescaled_img,cv.COLOR_BGR2GRAY)\n",
    "cv.imshow('gray',gray)\n",
    "\n",
    "for i in['gray','beach i guess']:\n",
    "    if cv.waitKey(0) :\n",
    "        cv.destroyWindow(i)"
   ]
  },
  {
   "cell_type": "markdown",
   "id": "a0aecd4f",
   "metadata": {},
   "source": [
    "### Blurring Images\n",
    "* Using Gaussian Blur to blur an image"
   ]
  },
  {
   "cell_type": "code",
   "execution_count": 9,
   "id": "4dab5899",
   "metadata": {},
   "outputs": [],
   "source": [
    "import numpy as np\n",
    "import cv2 as cv\n",
    "from ipynb.fs.full.Image_and_video_basics import rescaleFrame\n",
    "\n",
    "img=cv.imread('Images/6.jpg')\n",
    "\n",
    "rescaled_img=rescaleFrame(img,scale=0.3)\n",
    "cv.imshow('nabil',rescaled_img)\n",
    "\n",
    "\n",
    "blured_img=cv.GaussianBlur(rescaled_img,(3,3),cv.BORDER_DEFAULT)\n",
    "cv.imshow('blurred nabil',blured_img)\n",
    "\n",
    "for i in['nabil','blurred nabil']:\n",
    "    if cv.waitKey(0):\n",
    "        cv.destroyWindow(i)"
   ]
  },
  {
   "cell_type": "markdown",
   "id": "02630b52",
   "metadata": {},
   "source": [
    "### Edges of an image\n",
    "* In this cell we explore how to do a simple edge extraction with canny function"
   ]
  },
  {
   "cell_type": "code",
   "execution_count": 10,
   "id": "41e5a069",
   "metadata": {},
   "outputs": [],
   "source": [
    "import numpy as np\n",
    "import cv2 as cv\n",
    "\n",
    "img=cv.imread('Images/7.jpg')\n",
    "rescaled_img=rescaleFrame(img,scale=0.3)\n",
    "cv.imshow('nabil',rescaled_img)\n",
    "\n",
    "\n",
    "canny=cv.Canny(rescaled_img,100,120)\n",
    "cv.imshow('edges',canny)\n",
    "\n",
    "for i in['edges','nabil']:\n",
    "    if cv.waitKey(0) :\n",
    "        cv.destroyWindow(i)"
   ]
  },
  {
   "cell_type": "markdown",
   "id": "cee04a10",
   "metadata": {},
   "source": [
    "### Sobel edge Detection on Grayscale images\n",
    "* Using the cvt function to convert an image to grayscale\n",
    "* The Sobel function is responsible on the edge detection task on multiple axes (x,y and both of them at time)"
   ]
  },
  {
   "cell_type": "code",
   "execution_count": 11,
   "id": "336b215f",
   "metadata": {},
   "outputs": [],
   "source": [
    "import cv2 as cv\n",
    "import numpy as np\n",
    "from ipynb.fs.full.Image_and_video_basics import rescaleFrame\n",
    "\n",
    "img=cv.imread('Images/7.jpg')\n",
    "rescaled=rescaleFrame(img,0.3)\n",
    "# cv.imshow('nabil',rescaled)\n",
    "\n",
    "\n",
    "graynabil=cv.cvtColor(rescaled,cv.COLOR_BGR2GRAY)\n",
    "# cv.imshow('gray nabil',graynabil)\n",
    "\n",
    "# Applying sobel on the X axe\n",
    "sobelx=cv.Sobel(graynabil,cv.CV_64F,1,0,5)\n",
    "\n",
    "# Applying sobel on the Y axe\n",
    "sobely=cv.Sobel(graynabil,cv.CV_64F,0,1,5)\n",
    "\n",
    "\n",
    "# Applying sobel on both axes\n",
    "sobelxy=cv.Sobel(graynabil,cv.CV_64F,1,1,5)\n",
    "\n",
    "cv.imshow('sobelx nabil',sobelx)\n",
    "\n",
    "cv.imshow('sobely nabil',sobely)\n",
    "\n",
    "cv.imshow('sobelxy nabil',sobelxy)\n",
    "\n",
    "for i in['sobelx nabil','sobely nabil','sobelxy nabil']:\n",
    "    if cv.waitKey(0):\n",
    "        cv.destroyWindow(i)"
   ]
  }
 ],
 "metadata": {
  "kernelspec": {
   "display_name": "Python 3",
   "language": "python",
   "name": "python3"
  },
  "language_info": {
   "codemirror_mode": {
    "name": "ipython",
    "version": 3
   },
   "file_extension": ".py",
   "mimetype": "text/x-python",
   "name": "python",
   "nbconvert_exporter": "python",
   "pygments_lexer": "ipython3",
   "version": "3.9.6"
  }
 },
 "nbformat": 4,
 "nbformat_minor": 5
}
