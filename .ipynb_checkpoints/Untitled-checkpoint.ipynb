{
 "cells": [
  {
   "cell_type": "code",
   "execution_count": 1,
   "id": "cc2e3514",
   "metadata": {},
   "outputs": [],
   "source": [
    "import os\n",
    "import tqdm\n",
    "import cv2\n",
    "import numpy as np\n"
   ]
  },
  {
   "cell_type": "code",
   "execution_count": null,
   "id": "b0b5c7cc",
   "metadata": {},
   "outputs": [],
   "source": [
    "from IPython.core.display import display, HTML\n",
    "display(HTML('<html>\n",
    "<body>\n",
    "   <form enctype = \"multipart/form-data\" action = \"python_script.py\" method = \"post\">\n",
    "   <p>Upload File: <input type = \"file\" name = \"filename\" /></p>\n",
    "   <p><input type = \"submit\" value = \"Upload\" /></p>\n",
    "</form>\n",
    "</body>\n",
    "</html>'))\n"
   ]
  },
  {
   "cell_type": "code",
   "execution_count": null,
   "id": "125b244b",
   "metadata": {},
   "outputs": [],
   "source": [
    "def convert_im_to_px(img_path):\n",
    "    image = cv2.imread(img_path)\n",
    "    # Ramener les 3 composantes de couleurs RGB pour chaque pixel\n",
    "    image = cv2.cvtColor(image, cv2.COLOR_BGR2RGB) \n",
    "    image = cv2.resize(image, (150, 150)) \n",
    "    #  Ajoutez l'image à la liste\n",
    "    image=np.array(image)\n",
    "    image = image.astype('float32')\n",
    "    image /= 255\n",
    "    return image"
   ]
  },
  {
   "cell_type": "code",
   "execution_count": 2,
   "id": "3dc3fb16",
   "metadata": {},
   "outputs": [
    {
     "name": "stdout",
     "output_type": "stream",
     "text": [
      "Loading training_set\n"
     ]
    },
    {
     "ename": "FileNotFoundError",
     "evalue": "[Errno 2] No such file or directory: 'training_set'",
     "output_type": "error",
     "traceback": [
      "\u001b[0;31m---------------------------------------------------------------------------\u001b[0m",
      "\u001b[0;31mFileNotFoundError\u001b[0m                         Traceback (most recent call last)",
      "\u001b[0;32m<ipython-input-2-9322e2ef8ce7>\u001b[0m in \u001b[0;36m<module>\u001b[0;34m\u001b[0m\n\u001b[1;32m     36\u001b[0m     \u001b[0;32mreturn\u001b[0m \u001b[0moutput\u001b[0m\u001b[0;34m\u001b[0m\u001b[0;34m\u001b[0m\u001b[0m\n\u001b[1;32m     37\u001b[0m \u001b[0;31m#entrer le chemin de fichier d'apprentissage\u001b[0m\u001b[0;34m\u001b[0m\u001b[0;34m\u001b[0m\u001b[0;34m\u001b[0m\u001b[0m\n\u001b[0;32m---> 38\u001b[0;31m \u001b[0;34m(\u001b[0m\u001b[0mtrain_images\u001b[0m\u001b[0;34m,\u001b[0m \u001b[0mtrain_labels\u001b[0m\u001b[0;34m)\u001b[0m \u001b[0;34m=\u001b[0m \u001b[0mcharger_data\u001b[0m\u001b[0;34m(\u001b[0m\u001b[0;34m'training_set'\u001b[0m\u001b[0;34m)\u001b[0m\u001b[0;34m\u001b[0m\u001b[0;34m\u001b[0m\u001b[0m\n\u001b[0m\u001b[1;32m     39\u001b[0m \u001b[0;31m#entrer le chemin de fichier de teste\u001b[0m\u001b[0;34m\u001b[0m\u001b[0;34m\u001b[0m\u001b[0;34m\u001b[0m\u001b[0m\n\u001b[1;32m     40\u001b[0m \u001b[0;34m(\u001b[0m\u001b[0mtest_images\u001b[0m\u001b[0;34m,\u001b[0m \u001b[0mtest_labels\u001b[0m\u001b[0;34m)\u001b[0m \u001b[0;34m=\u001b[0m \u001b[0mcharger_data\u001b[0m\u001b[0;34m(\u001b[0m\u001b[0;34m'test_set'\u001b[0m\u001b[0;34m)\u001b[0m\u001b[0;34m\u001b[0m\u001b[0;34m\u001b[0m\u001b[0m\n",
      "\u001b[0;32m<ipython-input-2-9322e2ef8ce7>\u001b[0m in \u001b[0;36mcharger_data\u001b[0;34m(dataset)\u001b[0m\n\u001b[1;32m      8\u001b[0m     \u001b[0;31m# Itérer à travers chaque sous-dossier du (train/test dossier)\u001b[0m\u001b[0;34m\u001b[0m\u001b[0;34m\u001b[0m\u001b[0;34m\u001b[0m\u001b[0m\n\u001b[1;32m      9\u001b[0m         \u001b[0;31m#Chaque sous-dossier correspond à une catégorie\u001b[0m\u001b[0;34m\u001b[0m\u001b[0;34m\u001b[0m\u001b[0;34m\u001b[0m\u001b[0m\n\u001b[0;32m---> 10\u001b[0;31m     \u001b[0;32mfor\u001b[0m \u001b[0mfolder\u001b[0m \u001b[0;32min\u001b[0m \u001b[0mos\u001b[0m\u001b[0;34m.\u001b[0m\u001b[0mlistdir\u001b[0m\u001b[0;34m(\u001b[0m\u001b[0mdataset\u001b[0m\u001b[0;34m)\u001b[0m\u001b[0;34m:\u001b[0m\u001b[0;34m\u001b[0m\u001b[0;34m\u001b[0m\u001b[0m\n\u001b[0m\u001b[1;32m     11\u001b[0m         \u001b[0mlabel\u001b[0m \u001b[0;34m=\u001b[0m \u001b[0mclass_names_label\u001b[0m\u001b[0;34m[\u001b[0m\u001b[0mfolder\u001b[0m\u001b[0;34m]\u001b[0m\u001b[0;34m\u001b[0m\u001b[0;34m\u001b[0m\u001b[0m\n\u001b[1;32m     12\u001b[0m             \u001b[0;31m# Parcourir toutes les images dans une catégorie\u001b[0m\u001b[0;34m\u001b[0m\u001b[0;34m\u001b[0m\u001b[0;34m\u001b[0m\u001b[0m\n",
      "\u001b[0;31mFileNotFoundError\u001b[0m: [Errno 2] No such file or directory: 'training_set'"
     ]
    }
   ],
   "source": [
    "def charger_data(dataset):\n",
    "       \n",
    "    #Initialiser la variable impages et lables\n",
    "    images = [] #cette liste va contenir les images \n",
    "    labels = [] #cette liste va contenir les labels des images \n",
    "    \n",
    "    print(\"Loading {}\".format(dataset))    \n",
    "    # Itérer à travers chaque sous-dossier du (train/test dossier) \n",
    "        #Chaque sous-dossier correspond à une catégorie \n",
    "    for folder in os.listdir(dataset):\n",
    "        label = class_names_label[folder]    \n",
    "            # Parcourir toutes les images dans une catégorie \n",
    "        \n",
    "        for file in tqdm(os.listdir(os.path.join(dataset, folder))):\n",
    "                \n",
    "            # Sauvegarder le chemin vers l'image\n",
    "            img_path = os.path.join(os.path.join(dataset, folder), file)\n",
    "                # Ouvrir l'iamges \n",
    "            image = cv2.imread(img_path)\n",
    "                # Ramener les 3 composantes de couleurs RGB pour chaque pixel\n",
    "            image = cv2.cvtColor(image, cv2.COLOR_BGR2RGB) \n",
    "                # redimensionner l'image (150*150)\n",
    "            image = cv2.resize(image, (150, 150)) \n",
    "                #  Ajoutez l'image à la liste\n",
    "            image=np.array(image)\n",
    "            image = image.astype('float32')\n",
    "            image /= 255 \n",
    "            images.append(image)\n",
    "            # Ajouter son étiquette correspondante à la liste\n",
    "            labels.append(label)\n",
    "        \n",
    "    #On va rajouter les éléments de ces deux listes images/labels à output\n",
    "    output=(images, labels)\n",
    "        #on va lire les élements de la liste output en parallele\n",
    "        #out=sc.parallelize(output)\n",
    "    return output\n",
    "#entrer le chemin de fichier d'apprentissage \n",
    "(train_images, train_labels) = charger_data('training_set')\n",
    "#entrer le chemin de fichier de teste\n",
    "(test_images, test_labels) = charger_data('test_set')\n",
    "print(np.shape(train_labels))\n"
   ]
  },
  {
   "cell_type": "code",
   "execution_count": null,
   "id": "da017376",
   "metadata": {},
   "outputs": [],
   "source": []
  }
 ],
 "metadata": {
  "kernelspec": {
   "display_name": "Python 3",
   "language": "python",
   "name": "python3"
  },
  "language_info": {
   "codemirror_mode": {
    "name": "ipython",
    "version": 3
   },
   "file_extension": ".py",
   "mimetype": "text/x-python",
   "name": "python",
   "nbconvert_exporter": "python",
   "pygments_lexer": "ipython3",
   "version": "3.9.5"
  }
 },
 "nbformat": 4,
 "nbformat_minor": 5
}
